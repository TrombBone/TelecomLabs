{
  "nbformat": 4,
  "nbformat_minor": 0,
  "metadata": {
    "colab": {
      "provenance": [],
      "authorship_tag": "ABX9TyP62nb+gCfGxoZPSfP+FcoF",
      "include_colab_link": true
    },
    "kernelspec": {
      "name": "python3",
      "display_name": "Python 3"
    },
    "language_info": {
      "name": "python"
    }
  },
  "cells": [
    {
      "cell_type": "markdown",
      "metadata": {
        "id": "view-in-github",
        "colab_type": "text"
      },
      "source": [
        "<a href=\"https://colab.research.google.com/github/TrombBone/TelecomLabs/blob/main/Lab1.ipynb\" target=\"_parent\"><img src=\"https://colab.research.google.com/assets/colab-badge.svg\" alt=\"Open In Colab\"/></a>"
      ]
    },
    {
      "cell_type": "markdown",
      "source": [
        "# **Упражнение 1.1**\n",
        "Посмотреть с помощью chap01.ipynb примеры и пояснения."
      ],
      "metadata": {
        "id": "R51_Z6DbrYYh"
      }
    },
    {
      "cell_type": "markdown",
      "source": [
        "# **Упражнение 1.2**\n",
        "Скачайте с сайта https://freesound.org/ образец звука, включающий музыку, речь или иные звуки, имеющие четко выраженную высоту. Выделите примерно полусекундный сегмент, в котором высота постоянна. Вычислите и распечатайте спектр выбранного сегмента. Как связанны тембр звука и гармоническая структура, видимая в спепктре?\n",
        "\n",
        "Используйте high_pass, low_pass и band_stop для фильтрации тех или иных гармоник. Затем преобразуйте спектры обратно в сигнал и прослушайте его. Как звук соотносится с изменениями, сделанными в спектре?"
      ],
      "metadata": {
        "id": "5Lg4r06dsOnO"
      }
    },
    {
      "cell_type": "markdown",
      "source": [
        "Ипморт библиотек и файлов:"
      ],
      "metadata": {
        "id": "vUJdhtljsP2D"
      }
    },
    {
      "cell_type": "code",
      "source": [
        "import os\n",
        "if not os.path.exists('thinkdsp.py'):\n",
        "    !wget https://github.com/AllenDowney/ThinkDSP/raw/master/code/thinkdsp.py\n",
        "\n",
        "if not os.path.exists('651877__timouse__piano-loop-25.wav'):\n",
        "    !wget https://github.com/vyatkinsen/Telecom-labs/blob/main/619568__trebucheteffects__drum.wav\n",
        "\n",
        "from thinkdsp import read_wave"
      ],
      "metadata": {
        "id": "-KD1XOqQsT_D"
      },
      "execution_count": null,
      "outputs": []
    }
  ]
}
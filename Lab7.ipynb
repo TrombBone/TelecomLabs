{
  "nbformat": 4,
  "nbformat_minor": 0,
  "metadata": {
    "colab": {
      "provenance": [],
      "include_colab_link": true
    },
    "kernelspec": {
      "name": "python3",
      "display_name": "Python 3"
    },
    "language_info": {
      "name": "python"
    }
  },
  "cells": [
    {
      "cell_type": "markdown",
      "metadata": {
        "id": "view-in-github",
        "colab_type": "text"
      },
      "source": [
        "<a href=\"https://colab.research.google.com/github/TrombBone/TelecomLabs/blob/main/Lab7.ipynb\" target=\"_parent\"><img src=\"https://colab.research.google.com/assets/colab-badge.svg\" alt=\"Open In Colab\"/></a>"
      ]
    },
    {
      "cell_type": "markdown",
      "source": [
        "# **Упражнение 7.1**\n",
        "\n",
        "В блокноте для этой главы, chap07.ipynb, представлены дополнительные примеры и пояснения. Прочитать блокнот и запустите код."
      ],
      "metadata": {
        "id": "Udo9J-ZfFTMb"
      }
    },
    {
      "cell_type": "markdown",
      "source": [
        "# **Упражнение 7.2**\n",
        "\n",
        "Реализуйте алгоритм Быстрого Преобразования Фурье (БПФ), согласно лемме Дэниелсона-Ланцоша - рекурсивный алгоритм ДПФ. Подробности преобразований, алгоритм и самма лемма представлены в методичке."
      ],
      "metadata": {
        "id": "cfkEgRZjJW0n"
      }
    },
    {
      "cell_type": "markdown",
      "source": [
        "Произведём импорт и начнём реализовывать алгоритм:"
      ],
      "metadata": {
        "id": "0Ge3aYdpKLTg"
      }
    },
    {
      "cell_type": "code",
      "execution_count": 1,
      "metadata": {
        "id": "Bg47vJPdE_to"
      },
      "outputs": [],
      "source": [
        "import numpy as np\n",
        "PI2 = 2 * np.pi"
      ]
    },
    {
      "cell_type": "code",
      "source": [
        "ys = [0.9,0.8,-0.7,-0.6]\n",
        "hs = np.fft.fft(ys)\n",
        "hs"
      ],
      "metadata": {
        "colab": {
          "base_uri": "https://localhost:8080/"
        },
        "id": "GzL30cizFekt",
        "outputId": "57eadb7a-241f-43f6-c79c-3ea22ab41ba9"
      },
      "execution_count": 2,
      "outputs": [
        {
          "output_type": "execute_result",
          "data": {
            "text/plain": [
              "array([0.4+0.j , 1.6-1.4j, 0. +0.j , 1.6+1.4j])"
            ]
          },
          "metadata": {},
          "execution_count": 2
        }
      ]
    },
    {
      "cell_type": "code",
      "source": [
        "def dft(ys):\n",
        "    N = len(ys)\n",
        "    ts = np.arange(N) / N\n",
        "    freqs = np.arange(N)\n",
        "    args = np.outer(ts, freqs)\n",
        "    M = np.exp(1j * PI2 * args)\n",
        "    amps = M.conj().transpose().dot(ys)\n",
        "    return amps"
      ],
      "metadata": {
        "id": "4S56HvBwFhfg"
      },
      "execution_count": 3,
      "outputs": []
    },
    {
      "cell_type": "code",
      "source": [
        "dft(ys)"
      ],
      "metadata": {
        "colab": {
          "base_uri": "https://localhost:8080/"
        },
        "id": "lPyuNtl8Fkr_",
        "outputId": "dd1a2b58-b9d9-40cb-e134-ef17ac3fe136"
      },
      "execution_count": 4,
      "outputs": [
        {
          "output_type": "execute_result",
          "data": {
            "text/plain": [
              "array([0.4+0.0000000e+00j, 1.6-1.4000000e+00j, 0. -4.8985872e-17j,\n",
              "       1.6+1.4000000e+00j])"
            ]
          },
          "metadata": {},
          "execution_count": 4
        }
      ]
    },
    {
      "cell_type": "markdown",
      "source": [
        "Разделим массив на чётные и нечётные элементы:"
      ],
      "metadata": {
        "id": "_uOrdFnfFrf5"
      }
    },
    {
      "cell_type": "code",
      "source": [
        "ys[::2] , ys[1::2]"
      ],
      "metadata": {
        "colab": {
          "base_uri": "https://localhost:8080/"
        },
        "id": "bSx2jAnVFp5w",
        "outputId": "adfde9bf-8dc0-469d-b2a6-34ea9067a24d"
      },
      "execution_count": 5,
      "outputs": [
        {
          "output_type": "execute_result",
          "data": {
            "text/plain": [
              "([0.9, -0.7], [0.8, -0.6])"
            ]
          },
          "metadata": {},
          "execution_count": 5
        }
      ]
    },
    {
      "cell_type": "code",
      "source": [
        "def my_fft(ys):\n",
        "  He = dft(ys[::2])\n",
        "  Ho = dft(ys[1::2])\n",
        "  ns = np.arange(len(ys))\n",
        "  W = np.exp(-1j * PI2 * ns / len(ys))\n",
        "  return np.tile(He, 2) + W * np.tile(Ho, 2)"
      ],
      "metadata": {
        "id": "JYyqzxdUFvbV"
      },
      "execution_count": 6,
      "outputs": []
    },
    {
      "cell_type": "markdown",
      "source": [
        "Не рекурсивный метод:"
      ],
      "metadata": {
        "id": "L0wkKaETFwzD"
      }
    },
    {
      "cell_type": "code",
      "source": [
        "my_fft(ys)"
      ],
      "metadata": {
        "colab": {
          "base_uri": "https://localhost:8080/"
        },
        "id": "OF4mWupSFyyb",
        "outputId": "d96c9767-2b95-489a-a54b-ae4ad8febc1f"
      },
      "execution_count": 7,
      "outputs": [
        {
          "output_type": "execute_result",
          "data": {
            "text/plain": [
              "array([0.4+0.0000000e+00j, 1.6-1.4000000e+00j, 0. -2.4492936e-17j,\n",
              "       1.6+1.4000000e+00j])"
            ]
          },
          "metadata": {},
          "execution_count": 7
        }
      ]
    },
    {
      "cell_type": "code",
      "source": [
        "def my_fft(ys):\n",
        "  if len(ys) == 1:\n",
        "    return ys\n",
        "  He = my_fft(ys[::2])\n",
        "  Ho = my_fft(ys[1::2])\n",
        "  ns = np.arange(len(ys))\n",
        "  W = np.exp(-1j * PI2 * ns / len(ys))\n",
        "  return np.tile(He, 2) + W * np.tile(Ho, 2)"
      ],
      "metadata": {
        "id": "rYjNJgr8F2px"
      },
      "execution_count": 12,
      "outputs": []
    },
    {
      "cell_type": "markdown",
      "source": [
        "Рекурсивный метод:"
      ],
      "metadata": {
        "id": "8ODIJddMF7dk"
      }
    },
    {
      "cell_type": "code",
      "source": [
        "my_fft(ys)"
      ],
      "metadata": {
        "colab": {
          "base_uri": "https://localhost:8080/"
        },
        "id": "pnjeDMGXF7MA",
        "outputId": "65e91aa2-c787-4d53-e686-81514c20326a"
      },
      "execution_count": 13,
      "outputs": [
        {
          "output_type": "execute_result",
          "data": {
            "text/plain": [
              "array([0.4+0.0000000e+00j, 1.6-1.4000000e+00j, 0. -2.4492936e-17j,\n",
              "       1.6+1.4000000e+00j])"
            ]
          },
          "metadata": {},
          "execution_count": 13
        }
      ]
    }
  ]
}